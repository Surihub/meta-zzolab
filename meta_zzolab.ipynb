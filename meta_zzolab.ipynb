{
 "cells": [
  {
   "cell_type": "code",
   "execution_count": 1,
   "metadata": {},
   "outputs": [
    {
     "name": "stdout",
     "output_type": "stream",
     "text": [
      "--------\n",
      "popular-text-channels.csv interval_start_timestamp (71, 6)\n"
     ]
    },
    {
     "data": {
      "text/html": [
       "<div>\n",
       "<style scoped>\n",
       "    .dataframe tbody tr th:only-of-type {\n",
       "        vertical-align: middle;\n",
       "    }\n",
       "\n",
       "    .dataframe tbody tr th {\n",
       "        vertical-align: top;\n",
       "    }\n",
       "\n",
       "    .dataframe thead th {\n",
       "        text-align: right;\n",
       "    }\n",
       "</style>\n",
       "<table border=\"1\" class=\"dataframe\">\n",
       "  <thead>\n",
       "    <tr style=\"text-align: right;\">\n",
       "      <th></th>\n",
       "      <th>interval_start_timestamp</th>\n",
       "      <th>channel_name</th>\n",
       "      <th>channel_id</th>\n",
       "      <th>readers</th>\n",
       "      <th>chatters</th>\n",
       "      <th>messages</th>\n",
       "    </tr>\n",
       "  </thead>\n",
       "  <tbody>\n",
       "    <tr>\n",
       "      <th>0</th>\n",
       "      <td>2022-08-16T00:00:00+00:00</td>\n",
       "      <td>☕라운지</td>\n",
       "      <td>987566840257589301</td>\n",
       "      <td>71</td>\n",
       "      <td>8</td>\n",
       "      <td>23</td>\n",
       "    </tr>\n",
       "    <tr>\n",
       "      <th>1</th>\n",
       "      <td>2022-08-16T00:00:00+00:00</td>\n",
       "      <td>운영회의</td>\n",
       "      <td>987568291889426433</td>\n",
       "      <td>8</td>\n",
       "      <td>6</td>\n",
       "      <td>82</td>\n",
       "    </tr>\n",
       "    <tr>\n",
       "      <th>2</th>\n",
       "      <td>2022-08-16T00:00:00+00:00</td>\n",
       "      <td>🐥1학년</td>\n",
       "      <td>989297739630256208</td>\n",
       "      <td>106</td>\n",
       "      <td>11</td>\n",
       "      <td>16</td>\n",
       "    </tr>\n",
       "  </tbody>\n",
       "</table>\n",
       "</div>"
      ],
      "text/plain": [
       "    interval_start_timestamp channel_name          channel_id  readers  \\\n",
       "0  2022-08-16T00:00:00+00:00         ☕라운지  987566840257589301       71   \n",
       "1  2022-08-16T00:00:00+00:00         운영회의  987568291889426433        8   \n",
       "2  2022-08-16T00:00:00+00:00         🐥1학년  989297739630256208      106   \n",
       "\n",
       "   chatters  messages  \n",
       "0         8        23  \n",
       "1         6        82  \n",
       "2        11        16  "
      ]
     },
     "metadata": {},
     "output_type": "display_data"
    },
    {
     "name": "stdout",
     "output_type": "stream",
     "text": [
      "popular-voice-channels.csv interval_start_timestamp (7, 5)\n"
     ]
    },
    {
     "data": {
      "text/html": [
       "<div>\n",
       "<style scoped>\n",
       "    .dataframe tbody tr th:only-of-type {\n",
       "        vertical-align: middle;\n",
       "    }\n",
       "\n",
       "    .dataframe tbody tr th {\n",
       "        vertical-align: top;\n",
       "    }\n",
       "\n",
       "    .dataframe thead th {\n",
       "        text-align: right;\n",
       "    }\n",
       "</style>\n",
       "<table border=\"1\" class=\"dataframe\">\n",
       "  <thead>\n",
       "    <tr style=\"text-align: right;\">\n",
       "      <th></th>\n",
       "      <th>interval_start_timestamp</th>\n",
       "      <th>channel_name</th>\n",
       "      <th>channel_id</th>\n",
       "      <th>listeners</th>\n",
       "      <th>communicators</th>\n",
       "    </tr>\n",
       "  </thead>\n",
       "  <tbody>\n",
       "    <tr>\n",
       "      <th>0</th>\n",
       "      <td>2022-08-16T00:00:00+00:00</td>\n",
       "      <td>라운지</td>\n",
       "      <td>987566840257589302</td>\n",
       "      <td>8</td>\n",
       "      <td>10</td>\n",
       "    </tr>\n",
       "    <tr>\n",
       "      <th>1</th>\n",
       "      <td>2022-08-16T00:00:00+00:00</td>\n",
       "      <td>웹) ⚛🩴 쪼리</td>\n",
       "      <td>993131398586171482</td>\n",
       "      <td>4</td>\n",
       "      <td>5</td>\n",
       "    </tr>\n",
       "    <tr>\n",
       "      <th>2</th>\n",
       "      <td>2022-08-16T00:00:00+00:00</td>\n",
       "      <td>웹) CICD</td>\n",
       "      <td>993131471168622704</td>\n",
       "      <td>2</td>\n",
       "      <td>4</td>\n",
       "    </tr>\n",
       "  </tbody>\n",
       "</table>\n",
       "</div>"
      ],
      "text/plain": [
       "    interval_start_timestamp channel_name          channel_id  listeners  \\\n",
       "0  2022-08-16T00:00:00+00:00          라운지  987566840257589302          8   \n",
       "1  2022-08-16T00:00:00+00:00     웹) ⚛🩴 쪼리  993131398586171482          4   \n",
       "2  2022-08-16T00:00:00+00:00      웹) CICD  993131471168622704          2   \n",
       "\n",
       "   communicators  \n",
       "0             10  \n",
       "1              5  \n",
       "2              4  "
      ]
     },
     "metadata": {},
     "output_type": "display_data"
    },
    {
     "name": "stdout",
     "output_type": "stream",
     "text": [
      "--------\n",
      "guild-activation.csv interval_start_timestamp (49, 4)\n"
     ]
    },
    {
     "data": {
      "text/html": [
       "<div>\n",
       "<style scoped>\n",
       "    .dataframe tbody tr th:only-of-type {\n",
       "        vertical-align: middle;\n",
       "    }\n",
       "\n",
       "    .dataframe tbody tr th {\n",
       "        vertical-align: top;\n",
       "    }\n",
       "\n",
       "    .dataframe thead th {\n",
       "        text-align: right;\n",
       "    }\n",
       "</style>\n",
       "<table border=\"1\" class=\"dataframe\">\n",
       "  <thead>\n",
       "    <tr style=\"text-align: right;\">\n",
       "      <th></th>\n",
       "      <th>interval_start_timestamp</th>\n",
       "      <th>new_members</th>\n",
       "      <th>pct_communicated</th>\n",
       "      <th>pct_opened_channels</th>\n",
       "    </tr>\n",
       "  </thead>\n",
       "  <tbody>\n",
       "    <tr>\n",
       "      <th>0</th>\n",
       "      <td>2022-06-28T00:00:00+00:00</td>\n",
       "      <td>21</td>\n",
       "      <td>47.619048</td>\n",
       "      <td>23.809524</td>\n",
       "    </tr>\n",
       "    <tr>\n",
       "      <th>1</th>\n",
       "      <td>2022-06-29T00:00:00+00:00</td>\n",
       "      <td>14</td>\n",
       "      <td>50.000000</td>\n",
       "      <td>57.142857</td>\n",
       "    </tr>\n",
       "    <tr>\n",
       "      <th>2</th>\n",
       "      <td>2022-06-30T00:00:00+00:00</td>\n",
       "      <td>26</td>\n",
       "      <td>42.307692</td>\n",
       "      <td>42.307692</td>\n",
       "    </tr>\n",
       "  </tbody>\n",
       "</table>\n",
       "</div>"
      ],
      "text/plain": [
       "    interval_start_timestamp  new_members  pct_communicated  \\\n",
       "0  2022-06-28T00:00:00+00:00           21         47.619048   \n",
       "1  2022-06-29T00:00:00+00:00           14         50.000000   \n",
       "2  2022-06-30T00:00:00+00:00           26         42.307692   \n",
       "\n",
       "   pct_opened_channels  \n",
       "0            23.809524  \n",
       "1            57.142857  \n",
       "2            42.307692  "
      ]
     },
     "metadata": {},
     "output_type": "display_data"
    },
    {
     "name": "stdout",
     "output_type": "stream",
     "text": [
      "guild-communicators.csv interval_start_timestamp (49, 3)\n"
     ]
    },
    {
     "data": {
      "text/html": [
       "<div>\n",
       "<style scoped>\n",
       "    .dataframe tbody tr th:only-of-type {\n",
       "        vertical-align: middle;\n",
       "    }\n",
       "\n",
       "    .dataframe tbody tr th {\n",
       "        vertical-align: top;\n",
       "    }\n",
       "\n",
       "    .dataframe thead th {\n",
       "        text-align: right;\n",
       "    }\n",
       "</style>\n",
       "<table border=\"1\" class=\"dataframe\">\n",
       "  <thead>\n",
       "    <tr style=\"text-align: right;\">\n",
       "      <th></th>\n",
       "      <th>interval_start_timestamp</th>\n",
       "      <th>visitors</th>\n",
       "      <th>pct_communicated</th>\n",
       "    </tr>\n",
       "  </thead>\n",
       "  <tbody>\n",
       "    <tr>\n",
       "      <th>0</th>\n",
       "      <td>2022-06-28T00:00:00+00:00</td>\n",
       "      <td>301</td>\n",
       "      <td>20.930233</td>\n",
       "    </tr>\n",
       "    <tr>\n",
       "      <th>1</th>\n",
       "      <td>2022-06-29T00:00:00+00:00</td>\n",
       "      <td>160</td>\n",
       "      <td>18.750000</td>\n",
       "    </tr>\n",
       "    <tr>\n",
       "      <th>2</th>\n",
       "      <td>2022-06-30T00:00:00+00:00</td>\n",
       "      <td>153</td>\n",
       "      <td>22.875817</td>\n",
       "    </tr>\n",
       "  </tbody>\n",
       "</table>\n",
       "</div>"
      ],
      "text/plain": [
       "    interval_start_timestamp  visitors  pct_communicated\n",
       "0  2022-06-28T00:00:00+00:00       301         20.930233\n",
       "1  2022-06-29T00:00:00+00:00       160         18.750000\n",
       "2  2022-06-30T00:00:00+00:00       153         22.875817"
      ]
     },
     "metadata": {},
     "output_type": "display_data"
    },
    {
     "name": "stdout",
     "output_type": "stream",
     "text": [
      "guild-joins-by-source.csv interval_start_timestamp (49, 4)\n"
     ]
    },
    {
     "data": {
      "text/html": [
       "<div>\n",
       "<style scoped>\n",
       "    .dataframe tbody tr th:only-of-type {\n",
       "        vertical-align: middle;\n",
       "    }\n",
       "\n",
       "    .dataframe tbody tr th {\n",
       "        vertical-align: top;\n",
       "    }\n",
       "\n",
       "    .dataframe thead th {\n",
       "        text-align: right;\n",
       "    }\n",
       "</style>\n",
       "<table border=\"1\" class=\"dataframe\">\n",
       "  <thead>\n",
       "    <tr style=\"text-align: right;\">\n",
       "      <th></th>\n",
       "      <th>interval_start_timestamp</th>\n",
       "      <th>discovery_joins</th>\n",
       "      <th>invites</th>\n",
       "      <th>vanity_joins</th>\n",
       "    </tr>\n",
       "  </thead>\n",
       "  <tbody>\n",
       "    <tr>\n",
       "      <th>0</th>\n",
       "      <td>2022-06-28T00:00:00+00:00</td>\n",
       "      <td>0</td>\n",
       "      <td>17</td>\n",
       "      <td>0</td>\n",
       "    </tr>\n",
       "    <tr>\n",
       "      <th>1</th>\n",
       "      <td>2022-06-29T00:00:00+00:00</td>\n",
       "      <td>0</td>\n",
       "      <td>10</td>\n",
       "      <td>0</td>\n",
       "    </tr>\n",
       "    <tr>\n",
       "      <th>2</th>\n",
       "      <td>2022-06-30T00:00:00+00:00</td>\n",
       "      <td>0</td>\n",
       "      <td>14</td>\n",
       "      <td>0</td>\n",
       "    </tr>\n",
       "  </tbody>\n",
       "</table>\n",
       "</div>"
      ],
      "text/plain": [
       "    interval_start_timestamp  discovery_joins  invites  vanity_joins\n",
       "0  2022-06-28T00:00:00+00:00                0       17             0\n",
       "1  2022-06-29T00:00:00+00:00                0       10             0\n",
       "2  2022-06-30T00:00:00+00:00                0       14             0"
      ]
     },
     "metadata": {},
     "output_type": "display_data"
    },
    {
     "name": "stdout",
     "output_type": "stream",
     "text": [
      "guild-message-activity.csv interval_start_timestamp (49, 3)\n"
     ]
    },
    {
     "data": {
      "text/html": [
       "<div>\n",
       "<style scoped>\n",
       "    .dataframe tbody tr th:only-of-type {\n",
       "        vertical-align: middle;\n",
       "    }\n",
       "\n",
       "    .dataframe tbody tr th {\n",
       "        vertical-align: top;\n",
       "    }\n",
       "\n",
       "    .dataframe thead th {\n",
       "        text-align: right;\n",
       "    }\n",
       "</style>\n",
       "<table border=\"1\" class=\"dataframe\">\n",
       "  <thead>\n",
       "    <tr style=\"text-align: right;\">\n",
       "      <th></th>\n",
       "      <th>interval_start_timestamp</th>\n",
       "      <th>messages</th>\n",
       "      <th>messages_per_communicator</th>\n",
       "    </tr>\n",
       "  </thead>\n",
       "  <tbody>\n",
       "    <tr>\n",
       "      <th>0</th>\n",
       "      <td>2022-06-28T00:00:00+00:00</td>\n",
       "      <td>122</td>\n",
       "      <td>1.936508</td>\n",
       "    </tr>\n",
       "    <tr>\n",
       "      <th>1</th>\n",
       "      <td>2022-06-29T00:00:00+00:00</td>\n",
       "      <td>48</td>\n",
       "      <td>1.600000</td>\n",
       "    </tr>\n",
       "    <tr>\n",
       "      <th>2</th>\n",
       "      <td>2022-06-30T00:00:00+00:00</td>\n",
       "      <td>151</td>\n",
       "      <td>4.314286</td>\n",
       "    </tr>\n",
       "  </tbody>\n",
       "</table>\n",
       "</div>"
      ],
      "text/plain": [
       "    interval_start_timestamp  messages  messages_per_communicator\n",
       "0  2022-06-28T00:00:00+00:00       122                   1.936508\n",
       "1  2022-06-29T00:00:00+00:00        48                   1.600000\n",
       "2  2022-06-30T00:00:00+00:00       151                   4.314286"
      ]
     },
     "metadata": {},
     "output_type": "display_data"
    },
    {
     "name": "stdout",
     "output_type": "stream",
     "text": [
      "guild-retention.csv interval_start_timestamp (49, 3)\n"
     ]
    },
    {
     "data": {
      "text/html": [
       "<div>\n",
       "<style scoped>\n",
       "    .dataframe tbody tr th:only-of-type {\n",
       "        vertical-align: middle;\n",
       "    }\n",
       "\n",
       "    .dataframe tbody tr th {\n",
       "        vertical-align: top;\n",
       "    }\n",
       "\n",
       "    .dataframe thead th {\n",
       "        text-align: right;\n",
       "    }\n",
       "</style>\n",
       "<table border=\"1\" class=\"dataframe\">\n",
       "  <thead>\n",
       "    <tr style=\"text-align: right;\">\n",
       "      <th></th>\n",
       "      <th>interval_start_timestamp</th>\n",
       "      <th>new_members</th>\n",
       "      <th>pct_retained</th>\n",
       "    </tr>\n",
       "  </thead>\n",
       "  <tbody>\n",
       "    <tr>\n",
       "      <th>0</th>\n",
       "      <td>2022-06-28T00:00:00+00:00</td>\n",
       "      <td>21</td>\n",
       "      <td>57.142857</td>\n",
       "    </tr>\n",
       "    <tr>\n",
       "      <th>1</th>\n",
       "      <td>2022-06-29T00:00:00+00:00</td>\n",
       "      <td>14</td>\n",
       "      <td>57.142857</td>\n",
       "    </tr>\n",
       "    <tr>\n",
       "      <th>2</th>\n",
       "      <td>2022-06-30T00:00:00+00:00</td>\n",
       "      <td>26</td>\n",
       "      <td>61.538462</td>\n",
       "    </tr>\n",
       "  </tbody>\n",
       "</table>\n",
       "</div>"
      ],
      "text/plain": [
       "    interval_start_timestamp  new_members  pct_retained\n",
       "0  2022-06-28T00:00:00+00:00           21     57.142857\n",
       "1  2022-06-29T00:00:00+00:00           14     57.142857\n",
       "2  2022-06-30T00:00:00+00:00           26     61.538462"
      ]
     },
     "metadata": {},
     "output_type": "display_data"
    },
    {
     "name": "stdout",
     "output_type": "stream",
     "text": [
      "guild-total-membership.csv interval_start_timestamp (48, 2)\n"
     ]
    },
    {
     "data": {
      "text/html": [
       "<div>\n",
       "<style scoped>\n",
       "    .dataframe tbody tr th:only-of-type {\n",
       "        vertical-align: middle;\n",
       "    }\n",
       "\n",
       "    .dataframe tbody tr th {\n",
       "        vertical-align: top;\n",
       "    }\n",
       "\n",
       "    .dataframe thead th {\n",
       "        text-align: right;\n",
       "    }\n",
       "</style>\n",
       "<table border=\"1\" class=\"dataframe\">\n",
       "  <thead>\n",
       "    <tr style=\"text-align: right;\">\n",
       "      <th></th>\n",
       "      <th>interval_start_timestamp</th>\n",
       "      <th>total_membership</th>\n",
       "    </tr>\n",
       "  </thead>\n",
       "  <tbody>\n",
       "    <tr>\n",
       "      <th>0</th>\n",
       "      <td>2022-06-28T00:00:00+00:00</td>\n",
       "      <td>515</td>\n",
       "    </tr>\n",
       "    <tr>\n",
       "      <th>1</th>\n",
       "      <td>2022-06-29T00:00:00+00:00</td>\n",
       "      <td>555</td>\n",
       "    </tr>\n",
       "    <tr>\n",
       "      <th>2</th>\n",
       "      <td>2022-06-30T00:00:00+00:00</td>\n",
       "      <td>576</td>\n",
       "    </tr>\n",
       "  </tbody>\n",
       "</table>\n",
       "</div>"
      ],
      "text/plain": [
       "    interval_start_timestamp  total_membership\n",
       "0  2022-06-28T00:00:00+00:00               515\n",
       "1  2022-06-29T00:00:00+00:00               555\n",
       "2  2022-06-30T00:00:00+00:00               576"
      ]
     },
     "metadata": {},
     "output_type": "display_data"
    },
    {
     "name": "stdout",
     "output_type": "stream",
     "text": [
      "guild-voice-activity.csv interval_start_timestamp (49, 2)\n"
     ]
    },
    {
     "data": {
      "text/html": [
       "<div>\n",
       "<style scoped>\n",
       "    .dataframe tbody tr th:only-of-type {\n",
       "        vertical-align: middle;\n",
       "    }\n",
       "\n",
       "    .dataframe tbody tr th {\n",
       "        vertical-align: top;\n",
       "    }\n",
       "\n",
       "    .dataframe thead th {\n",
       "        text-align: right;\n",
       "    }\n",
       "</style>\n",
       "<table border=\"1\" class=\"dataframe\">\n",
       "  <thead>\n",
       "    <tr style=\"text-align: right;\">\n",
       "      <th></th>\n",
       "      <th>interval_start_timestamp</th>\n",
       "      <th>speaking_minutes</th>\n",
       "    </tr>\n",
       "  </thead>\n",
       "  <tbody>\n",
       "    <tr>\n",
       "      <th>0</th>\n",
       "      <td>2022-06-28T00:00:00+00:00</td>\n",
       "      <td>0</td>\n",
       "    </tr>\n",
       "    <tr>\n",
       "      <th>1</th>\n",
       "      <td>2022-06-29T00:00:00+00:00</td>\n",
       "      <td>0</td>\n",
       "    </tr>\n",
       "    <tr>\n",
       "      <th>2</th>\n",
       "      <td>2022-06-30T00:00:00+00:00</td>\n",
       "      <td>0</td>\n",
       "    </tr>\n",
       "  </tbody>\n",
       "</table>\n",
       "</div>"
      ],
      "text/plain": [
       "    interval_start_timestamp  speaking_minutes\n",
       "0  2022-06-28T00:00:00+00:00                 0\n",
       "1  2022-06-29T00:00:00+00:00                 0\n",
       "2  2022-06-30T00:00:00+00:00                 0"
      ]
     },
     "metadata": {},
     "output_type": "display_data"
    },
    {
     "name": "stdout",
     "output_type": "stream",
     "text": [
      "--------\n",
      "guild-leavers.csv interval_start_timestamp (73, 3)\n"
     ]
    },
    {
     "data": {
      "text/html": [
       "<div>\n",
       "<style scoped>\n",
       "    .dataframe tbody tr th:only-of-type {\n",
       "        vertical-align: middle;\n",
       "    }\n",
       "\n",
       "    .dataframe tbody tr th {\n",
       "        vertical-align: top;\n",
       "    }\n",
       "\n",
       "    .dataframe thead th {\n",
       "        text-align: right;\n",
       "    }\n",
       "</style>\n",
       "<table border=\"1\" class=\"dataframe\">\n",
       "  <thead>\n",
       "    <tr style=\"text-align: right;\">\n",
       "      <th></th>\n",
       "      <th>interval_start_timestamp</th>\n",
       "      <th>days_in_guild</th>\n",
       "      <th>leavers</th>\n",
       "    </tr>\n",
       "  </thead>\n",
       "  <tbody>\n",
       "    <tr>\n",
       "      <th>0</th>\n",
       "      <td>2022-06-28T00:00:00+00:00</td>\n",
       "      <td>'Members for &lt; 1 month'</td>\n",
       "      <td>1</td>\n",
       "    </tr>\n",
       "    <tr>\n",
       "      <th>1</th>\n",
       "      <td>2022-06-28T00:00:00+00:00</td>\n",
       "      <td>Members for &lt; 1 month</td>\n",
       "      <td>1</td>\n",
       "    </tr>\n",
       "    <tr>\n",
       "      <th>2</th>\n",
       "      <td>2022-06-29T00:00:00+00:00</td>\n",
       "      <td>'Members for 1 month+'</td>\n",
       "      <td>0</td>\n",
       "    </tr>\n",
       "  </tbody>\n",
       "</table>\n",
       "</div>"
      ],
      "text/plain": [
       "    interval_start_timestamp            days_in_guild  leavers\n",
       "0  2022-06-28T00:00:00+00:00  'Members for < 1 month'        1\n",
       "1  2022-06-28T00:00:00+00:00    Members for < 1 month        1\n",
       "2  2022-06-29T00:00:00+00:00   'Members for 1 month+'        0"
      ]
     },
     "metadata": {},
     "output_type": "display_data"
    },
    {
     "name": "stdout",
     "output_type": "stream",
     "text": [
      "guild-muters.csv interval_start_timestamp (73, 3)\n"
     ]
    },
    {
     "data": {
      "text/html": [
       "<div>\n",
       "<style scoped>\n",
       "    .dataframe tbody tr th:only-of-type {\n",
       "        vertical-align: middle;\n",
       "    }\n",
       "\n",
       "    .dataframe tbody tr th {\n",
       "        vertical-align: top;\n",
       "    }\n",
       "\n",
       "    .dataframe thead th {\n",
       "        text-align: right;\n",
       "    }\n",
       "</style>\n",
       "<table border=\"1\" class=\"dataframe\">\n",
       "  <thead>\n",
       "    <tr style=\"text-align: right;\">\n",
       "      <th></th>\n",
       "      <th>interval_start_timestamp</th>\n",
       "      <th>days_in_guild</th>\n",
       "      <th>muters</th>\n",
       "    </tr>\n",
       "  </thead>\n",
       "  <tbody>\n",
       "    <tr>\n",
       "      <th>0</th>\n",
       "      <td>2022-06-28T00:00:00+00:00</td>\n",
       "      <td>'Existing Members'</td>\n",
       "      <td>0</td>\n",
       "    </tr>\n",
       "    <tr>\n",
       "      <th>1</th>\n",
       "      <td>2022-06-28T00:00:00+00:00</td>\n",
       "      <td>Existing Members</td>\n",
       "      <td>0</td>\n",
       "    </tr>\n",
       "    <tr>\n",
       "      <th>2</th>\n",
       "      <td>2022-06-29T00:00:00+00:00</td>\n",
       "      <td>'Existing Members'</td>\n",
       "      <td>0</td>\n",
       "    </tr>\n",
       "  </tbody>\n",
       "</table>\n",
       "</div>"
      ],
      "text/plain": [
       "    interval_start_timestamp       days_in_guild  muters\n",
       "0  2022-06-28T00:00:00+00:00  'Existing Members'       0\n",
       "1  2022-06-28T00:00:00+00:00    Existing Members       0\n",
       "2  2022-06-29T00:00:00+00:00  'Existing Members'       0"
      ]
     },
     "metadata": {},
     "output_type": "display_data"
    },
    {
     "name": "stdout",
     "output_type": "stream",
     "text": [
      "--------\n",
      "new-members-by-discord-tenure.csv interval_start_timestamp (2, 3)\n"
     ]
    },
    {
     "data": {
      "text/html": [
       "<div>\n",
       "<style scoped>\n",
       "    .dataframe tbody tr th:only-of-type {\n",
       "        vertical-align: middle;\n",
       "    }\n",
       "\n",
       "    .dataframe tbody tr th {\n",
       "        vertical-align: top;\n",
       "    }\n",
       "\n",
       "    .dataframe thead th {\n",
       "        text-align: right;\n",
       "    }\n",
       "</style>\n",
       "<table border=\"1\" class=\"dataframe\">\n",
       "  <thead>\n",
       "    <tr style=\"text-align: right;\">\n",
       "      <th></th>\n",
       "      <th>interval_start_timestamp</th>\n",
       "      <th>tenure</th>\n",
       "      <th>new_members</th>\n",
       "    </tr>\n",
       "  </thead>\n",
       "  <tbody>\n",
       "    <tr>\n",
       "      <th>0</th>\n",
       "      <td>2022-08-15T00:00:00+00:00</td>\n",
       "      <td>'1 month+'</td>\n",
       "      <td>4</td>\n",
       "    </tr>\n",
       "    <tr>\n",
       "      <th>1</th>\n",
       "      <td>2022-08-15T00:00:00+00:00</td>\n",
       "      <td>'&lt; 1 month'</td>\n",
       "      <td>10</td>\n",
       "    </tr>\n",
       "  </tbody>\n",
       "</table>\n",
       "</div>"
      ],
      "text/plain": [
       "    interval_start_timestamp       tenure  new_members\n",
       "0  2022-08-15T00:00:00+00:00   '1 month+'            4\n",
       "1  2022-08-15T00:00:00+00:00  '< 1 month'           10"
      ]
     },
     "metadata": {},
     "output_type": "display_data"
    },
    {
     "name": "stdout",
     "output_type": "stream",
     "text": [
      "participators-by-guild-tenure.csv interval_start_timestamp (2, 3)\n"
     ]
    },
    {
     "data": {
      "text/html": [
       "<div>\n",
       "<style scoped>\n",
       "    .dataframe tbody tr th:only-of-type {\n",
       "        vertical-align: middle;\n",
       "    }\n",
       "\n",
       "    .dataframe tbody tr th {\n",
       "        vertical-align: top;\n",
       "    }\n",
       "\n",
       "    .dataframe thead th {\n",
       "        text-align: right;\n",
       "    }\n",
       "</style>\n",
       "<table border=\"1\" class=\"dataframe\">\n",
       "  <thead>\n",
       "    <tr style=\"text-align: right;\">\n",
       "      <th></th>\n",
       "      <th>interval_start_timestamp</th>\n",
       "      <th>tenure</th>\n",
       "      <th>participators</th>\n",
       "    </tr>\n",
       "  </thead>\n",
       "  <tbody>\n",
       "    <tr>\n",
       "      <th>0</th>\n",
       "      <td>2022-08-15T00:00:00+00:00</td>\n",
       "      <td>'1 - 6 months'</td>\n",
       "      <td>197</td>\n",
       "    </tr>\n",
       "    <tr>\n",
       "      <th>1</th>\n",
       "      <td>2022-08-15T00:00:00+00:00</td>\n",
       "      <td>'&lt; 1 month'</td>\n",
       "      <td>13</td>\n",
       "    </tr>\n",
       "  </tbody>\n",
       "</table>\n",
       "</div>"
      ],
      "text/plain": [
       "    interval_start_timestamp          tenure  participators\n",
       "0  2022-08-15T00:00:00+00:00  '1 - 6 months'            197\n",
       "1  2022-08-15T00:00:00+00:00     '< 1 month'             13"
      ]
     },
     "metadata": {},
     "output_type": "display_data"
    },
    {
     "name": "stdout",
     "output_type": "stream",
     "text": [
      "participators-by-platform.csv interval_start_timestamp (3, 3)\n"
     ]
    },
    {
     "data": {
      "text/html": [
       "<div>\n",
       "<style scoped>\n",
       "    .dataframe tbody tr th:only-of-type {\n",
       "        vertical-align: middle;\n",
       "    }\n",
       "\n",
       "    .dataframe tbody tr th {\n",
       "        vertical-align: top;\n",
       "    }\n",
       "\n",
       "    .dataframe thead th {\n",
       "        text-align: right;\n",
       "    }\n",
       "</style>\n",
       "<table border=\"1\" class=\"dataframe\">\n",
       "  <thead>\n",
       "    <tr style=\"text-align: right;\">\n",
       "      <th></th>\n",
       "      <th>interval_start_timestamp</th>\n",
       "      <th>platform</th>\n",
       "      <th>participators</th>\n",
       "    </tr>\n",
       "  </thead>\n",
       "  <tbody>\n",
       "    <tr>\n",
       "      <th>0</th>\n",
       "      <td>2022-08-15T00:00:00+00:00</td>\n",
       "      <td>'Desktop and Mobile'</td>\n",
       "      <td>104</td>\n",
       "    </tr>\n",
       "    <tr>\n",
       "      <th>1</th>\n",
       "      <td>2022-08-15T00:00:00+00:00</td>\n",
       "      <td>'Mobile Only'</td>\n",
       "      <td>81</td>\n",
       "    </tr>\n",
       "    <tr>\n",
       "      <th>2</th>\n",
       "      <td>2022-08-15T00:00:00+00:00</td>\n",
       "      <td>'Other'</td>\n",
       "      <td>25</td>\n",
       "    </tr>\n",
       "  </tbody>\n",
       "</table>\n",
       "</div>"
      ],
      "text/plain": [
       "    interval_start_timestamp              platform  participators\n",
       "0  2022-08-15T00:00:00+00:00  'Desktop and Mobile'            104\n",
       "1  2022-08-15T00:00:00+00:00         'Mobile Only'             81\n",
       "2  2022-08-15T00:00:00+00:00               'Other'             25"
      ]
     },
     "metadata": {},
     "output_type": "display_data"
    },
    {
     "name": "stdout",
     "output_type": "stream",
     "text": [
      "participators-by-reg-country.csv interval_start_timestamp (2, 3)\n"
     ]
    },
    {
     "data": {
      "text/html": [
       "<div>\n",
       "<style scoped>\n",
       "    .dataframe tbody tr th:only-of-type {\n",
       "        vertical-align: middle;\n",
       "    }\n",
       "\n",
       "    .dataframe tbody tr th {\n",
       "        vertical-align: top;\n",
       "    }\n",
       "\n",
       "    .dataframe thead th {\n",
       "        text-align: right;\n",
       "    }\n",
       "</style>\n",
       "<table border=\"1\" class=\"dataframe\">\n",
       "  <thead>\n",
       "    <tr style=\"text-align: right;\">\n",
       "      <th></th>\n",
       "      <th>interval_start_timestamp</th>\n",
       "      <th>country_code</th>\n",
       "      <th>participators</th>\n",
       "    </tr>\n",
       "  </thead>\n",
       "  <tbody>\n",
       "    <tr>\n",
       "      <th>0</th>\n",
       "      <td>2022-08-15T00:00:00+00:00</td>\n",
       "      <td>'KR'</td>\n",
       "      <td>209</td>\n",
       "    </tr>\n",
       "    <tr>\n",
       "      <th>1</th>\n",
       "      <td>2022-08-15T00:00:00+00:00</td>\n",
       "      <td>'Other'</td>\n",
       "      <td>1</td>\n",
       "    </tr>\n",
       "  </tbody>\n",
       "</table>\n",
       "</div>"
      ],
      "text/plain": [
       "    interval_start_timestamp country_code  participators\n",
       "0  2022-08-15T00:00:00+00:00         'KR'            209\n",
       "1  2022-08-15T00:00:00+00:00      'Other'              1"
      ]
     },
     "metadata": {},
     "output_type": "display_data"
    }
   ],
   "source": [
    "#파일 불러오기\n",
    "import os\n",
    "import pandas as pd\n",
    "\n",
    "path = './zzolab/'\n",
    "file_list = os.listdir(path)\n",
    "file_list_py = [file for file in file_list if file.endswith('.csv')] ## 파일명 끝이 .csv인 경우\n",
    "\n",
    "# 행 개수에 따라 파일 구분하기. 메인이 times1(time series)\n",
    "# 그룹 내에 있는 파일들끼리 합치려고...\n",
    "channels, times1, times2, etc = [],[],[],[]\n",
    "for i in file_list_py:\n",
    "    data = pd.read_csv(path + i)\n",
    "    if data.columns[1]=='channel_name':\n",
    "        channels.append(i)        \n",
    "    elif len(data)<10:\n",
    "        etc.append(i)\n",
    "    elif 40<len(data)<60:\n",
    "        times1.append(i)\n",
    "    else:\n",
    "        times2.append(i)\n",
    "        \n",
    "#데이터 확인 (main은 times1)\n",
    "for group in [channels, times1, times2, etc]:\n",
    "    print('-'*8)\n",
    "    for i in group:\n",
    "        data = pd.read_csv(path + i)\n",
    "        print(i, data.columns[0], data.shape)\n",
    "        display(data.head(3))"
   ]
  },
  {
   "cell_type": "code",
   "execution_count": 2,
   "metadata": {},
   "outputs": [
    {
     "name": "stdout",
     "output_type": "stream",
     "text": [
      "(49, 15)\n",
      "(49, 12)\n"
     ]
    },
    {
     "data": {
      "text/html": [
       "<div>\n",
       "<style scoped>\n",
       "    .dataframe tbody tr th:only-of-type {\n",
       "        vertical-align: middle;\n",
       "    }\n",
       "\n",
       "    .dataframe tbody tr th {\n",
       "        vertical-align: top;\n",
       "    }\n",
       "\n",
       "    .dataframe thead th {\n",
       "        text-align: right;\n",
       "    }\n",
       "</style>\n",
       "<table border=\"1\" class=\"dataframe\">\n",
       "  <thead>\n",
       "    <tr style=\"text-align: right;\">\n",
       "      <th></th>\n",
       "      <th>0</th>\n",
       "      <th>1</th>\n",
       "      <th>2</th>\n",
       "      <th>3</th>\n",
       "      <th>4</th>\n",
       "    </tr>\n",
       "  </thead>\n",
       "  <tbody>\n",
       "    <tr>\n",
       "      <th>timestamp</th>\n",
       "      <td>2022-06-28</td>\n",
       "      <td>2022-06-29</td>\n",
       "      <td>2022-06-30</td>\n",
       "      <td>2022-07-01</td>\n",
       "      <td>2022-07-02</td>\n",
       "    </tr>\n",
       "    <tr>\n",
       "      <th>speaking_minutes</th>\n",
       "      <td>0</td>\n",
       "      <td>0</td>\n",
       "      <td>0</td>\n",
       "      <td>0</td>\n",
       "      <td>0</td>\n",
       "    </tr>\n",
       "    <tr>\n",
       "      <th>total_membership</th>\n",
       "      <td>515</td>\n",
       "      <td>555</td>\n",
       "      <td>576</td>\n",
       "      <td>592</td>\n",
       "      <td>614</td>\n",
       "    </tr>\n",
       "    <tr>\n",
       "      <th>new_members</th>\n",
       "      <td>21</td>\n",
       "      <td>14</td>\n",
       "      <td>26</td>\n",
       "      <td>11</td>\n",
       "      <td>2</td>\n",
       "    </tr>\n",
       "    <tr>\n",
       "      <th>pct_retained</th>\n",
       "      <td>57.1429</td>\n",
       "      <td>57.1429</td>\n",
       "      <td>61.5385</td>\n",
       "      <td>54.5455</td>\n",
       "      <td>50</td>\n",
       "    </tr>\n",
       "    <tr>\n",
       "      <th>messages</th>\n",
       "      <td>122</td>\n",
       "      <td>48</td>\n",
       "      <td>151</td>\n",
       "      <td>124</td>\n",
       "      <td>78</td>\n",
       "    </tr>\n",
       "    <tr>\n",
       "      <th>messages_per_communicator</th>\n",
       "      <td>1.93651</td>\n",
       "      <td>1.6</td>\n",
       "      <td>4.31429</td>\n",
       "      <td>1.82353</td>\n",
       "      <td>2</td>\n",
       "    </tr>\n",
       "    <tr>\n",
       "      <th>invites</th>\n",
       "      <td>17</td>\n",
       "      <td>10</td>\n",
       "      <td>14</td>\n",
       "      <td>6</td>\n",
       "      <td>1</td>\n",
       "    </tr>\n",
       "    <tr>\n",
       "      <th>visitors</th>\n",
       "      <td>301</td>\n",
       "      <td>160</td>\n",
       "      <td>153</td>\n",
       "      <td>356</td>\n",
       "      <td>155</td>\n",
       "    </tr>\n",
       "    <tr>\n",
       "      <th>pct_communicated_visitors</th>\n",
       "      <td>20.9302</td>\n",
       "      <td>18.75</td>\n",
       "      <td>22.8758</td>\n",
       "      <td>19.1011</td>\n",
       "      <td>25.1613</td>\n",
       "    </tr>\n",
       "    <tr>\n",
       "      <th>pct_communicated_new</th>\n",
       "      <td>47.619</td>\n",
       "      <td>50</td>\n",
       "      <td>42.3077</td>\n",
       "      <td>45.4545</td>\n",
       "      <td>0</td>\n",
       "    </tr>\n",
       "    <tr>\n",
       "      <th>pct_opened_channels</th>\n",
       "      <td>23.8095</td>\n",
       "      <td>57.1429</td>\n",
       "      <td>42.3077</td>\n",
       "      <td>54.5455</td>\n",
       "      <td>0</td>\n",
       "    </tr>\n",
       "  </tbody>\n",
       "</table>\n",
       "</div>"
      ],
      "text/plain": [
       "                                    0           1           2           3  \\\n",
       "timestamp                  2022-06-28  2022-06-29  2022-06-30  2022-07-01   \n",
       "speaking_minutes                    0           0           0           0   \n",
       "total_membership                  515         555         576         592   \n",
       "new_members                        21          14          26          11   \n",
       "pct_retained                  57.1429     57.1429     61.5385     54.5455   \n",
       "messages                          122          48         151         124   \n",
       "messages_per_communicator     1.93651         1.6     4.31429     1.82353   \n",
       "invites                            17          10          14           6   \n",
       "visitors                          301         160         153         356   \n",
       "pct_communicated_visitors     20.9302       18.75     22.8758     19.1011   \n",
       "pct_communicated_new           47.619          50     42.3077     45.4545   \n",
       "pct_opened_channels           23.8095     57.1429     42.3077     54.5455   \n",
       "\n",
       "                                    4  \n",
       "timestamp                  2022-07-02  \n",
       "speaking_minutes                    0  \n",
       "total_membership                  614  \n",
       "new_members                         2  \n",
       "pct_retained                       50  \n",
       "messages                           78  \n",
       "messages_per_communicator           2  \n",
       "invites                             1  \n",
       "visitors                          155  \n",
       "pct_communicated_visitors     25.1613  \n",
       "pct_communicated_new                0  \n",
       "pct_opened_channels                 0  "
      ]
     },
     "metadata": {},
     "output_type": "display_data"
    }
   ],
   "source": [
    "# 데이터 합치기(merge)\n",
    "meta_1 = pd.read_csv(path+times1[0])\n",
    "for i in times1[1:]:\n",
    "    data = pd.read_csv(path + i)\n",
    "    meta_1 = pd.merge(data, meta_1, on = 'interval_start_timestamp', how = 'outer')\n",
    "\n",
    "# 열 이름 변경 및 삭제(중복)\n",
    "print(meta_1.shape)\n",
    "meta_1.columns = ['timestamp', 'speaking_minutes', 'total_membership',\n",
    "       'new_members', 'pct_retained', 'messages',\n",
    "       'messages_per_communicator', 'discovery_joins', 'invites',\n",
    "       'vanity_joins', 'visitors', 'pct_communicated_visitors', 'new_members_y',\n",
    "       'pct_communicated_new', 'pct_opened_channels']\n",
    "meta_1 = meta_1.drop(['new_members_y', 'discovery_joins', 'vanity_joins'], axis=1)\n",
    "#timestamp 수정\n",
    "new_ts = []\n",
    "for i in meta_1['timestamp']:\n",
    "    new_ts.append(i[:10])\n",
    "meta_1['timestamp'] = new_ts\n",
    "\n",
    "print(meta_1.shape)\n",
    "display(meta_1.head(5).T)\n",
    "meta_1.to_csv('metazzolab.csv')"
   ]
  },
  {
   "cell_type": "code",
   "execution_count": null,
   "metadata": {
    "scrolled": true
   },
   "outputs": [
    {
     "data": {
      "image/png": "[encoded data removed]",
      "text/plain": [
       "<Figure size 864x216 with 1 Axes>"
      ]
     },
     "metadata": {
      "needs_background": "light"
     },
     "output_type": "display_data"
    },
    {
     "data": {
      "image/png": "[encoded data removed]",
      "text/plain": [
       "<Figure size 864x216 with 1 Axes>"
      ]
     },
     "metadata": {
      "needs_background": "light"
     },
     "output_type": "display_data"
    },
    {
     "data": {
      "image/png": "[encoded data removed]",
      "text/plain": [
       "<Figure size 864x216 with 1 Axes>"
      ]
     },
     "metadata": {
      "needs_background": "light"
     },
     "output_type": "display_data"
    },
    {
     "data": {
      "image/png": "[encoded data removed]",
      "text/plain": [
       "<Figure size 864x216 with 1 Axes>"
      ]
     },
     "metadata": {
      "needs_background": "light"
     },
     "output_type": "display_data"
    },
    {
     "data": {
      "image/png": "[encoded data removed]",
      "text/plain": [
       "<Figure size 864x216 with 1 Axes>"
      ]
     },
     "metadata": {
      "needs_background": "light"
     },
     "output_type": "display_data"
    }
   ],
   "source": [
    "import matplotlib.pyplot as plt\n",
    "import seaborn as sns\n",
    "\n",
    "for column in meta_1.columns[1:]:\n",
    "    plt.figure(figsize = (12, 3))\n",
    "    sns.barplot(x = 'timestamp', y=column, data=meta_1)\n",
    "    plt.xticks(rotation = 90)\n",
    "    plt.show()"
   ]
  },
  {
   "cell_type": "code",
   "execution_count": null,
   "metadata": {},
   "outputs": [],
   "source": [
    "p = meta_1.hist(figsize=(15,15))"
   ]
  },
  {
   "cell_type": "code",
   "execution_count": null,
   "metadata": {},
   "outputs": [],
   "source": [
    "#p=pd.plotting.scatter_matrix(meta_1,figsize=(15, 15))\n",
    "sns.pairplot(meta_1)\n",
    "plt.show()"
   ]
  },
  {
   "cell_type": "code",
   "execution_count": null,
   "metadata": {},
   "outputs": [],
   "source": [
    "plt.figure(figsize=(12,10)) # on this line I just set the size of figure to 12 by 10.\n",
    "p=sns.heatmap(meta_1.corr(), annot=True,cmap ='RdYlGn')\n",
    "plt.show()"
   ]
  },
  {
   "cell_type": "code",
   "execution_count": null,
   "metadata": {},
   "outputs": [],
   "source": [
    "# channel\n",
    "channel = pd.read_csv('zzolab/popular-text-channels.csv')\n",
    "channel.index = channel.channel_name\n",
    "channel = channel[['channel_name','readers','chatters', 'messages']]\n",
    "\n",
    "study = []\n",
    "for i in channel.index:\n",
    "    if i [-2:]!='크루' and i[-1:]!='팀':\n",
    "        study.append(i)\n",
    "        \n",
    "channel = channel.T[study].T\n",
    "channel = channel.reset_index(drop=True)\n",
    "channel"
   ]
  },
  {
   "cell_type": "code",
   "execution_count": null,
   "metadata": {},
   "outputs": [],
   "source": [
    "#p=sns.heatmap(channel.corr(), annot=True,cmap ='RdYlGn')# 에러\n",
    "sns.pairplot(channel)\n",
    "plt.show()"
   ]
  },
  {
   "cell_type": "code",
   "execution_count": null,
   "metadata": {},
   "outputs": [],
   "source": [
    "import matplotlib\n",
    "matplotlib.rcParams['font.family'] ='Malgun Gothic'\n",
    "matplotlib.rcParams['axes.unicode_minus'] =False\n",
    "\n",
    "for i in ['readers','chatters','messages']:\n",
    "    df = channel.sort_values(by=i, ascending=False)\n",
    "    plt.figure(figsize = (20,6))\n",
    "    plt.bar(df.channel_name, df[i])\n",
    "    plt.xticks(rotation = 90)\n",
    "    plt.show()"
   ]
  },
  {
   "cell_type": "code",
   "execution_count": null,
   "metadata": {},
   "outputs": [],
   "source": [
    "channel_melt = channel.melt(id_vars = 'channel_name')\n",
    "plt.figure(figsize = (12,6))\n",
    "sns.barplot(data = channel_melt, y = 'value',x = 'channel_name',hue = 'variable')\n",
    "plt.xticks(rotation=90)\n",
    "plt.show()"
   ]
  },
  {
   "cell_type": "code",
   "execution_count": null,
   "metadata": {},
   "outputs": [],
   "source": []
  }
 ],
 "metadata": {
  "kernelspec": {
   "display_name": "Python 3",
   "language": "python",
   "name": "python3"
  },
  "language_info": {
   "codemirror_mode": {
    "name": "ipython",
    "version": 3
   },
   "file_extension": ".py",
   "mimetype": "text/x-python",
   "name": "python",
   "nbconvert_exporter": "python",
   "pygments_lexer": "ipython3",
   "version": "3.7.2"
  }
 },
 "nbformat": 4,
 "nbformat_minor": 4
}
